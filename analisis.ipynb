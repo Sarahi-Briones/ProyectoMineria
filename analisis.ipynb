{
 "cells": [
  {
   "attachments": {},
   "cell_type": "markdown",
   "metadata": {},
   "source": [
    "# Análisis de un archivo CSV sobre votaciones electorales en el estado de Queretaro"
   ]
  },
  {
   "attachments": {},
   "cell_type": "markdown",
   "metadata": {},
   "source": [
    "## Equipo 3\n",
    "* Briones Tapia Sarahí\n",
    "* Larrazolo Barrera Bruno\n",
    "* López Guerrero Arcadio"
   ]
  },
  {
   "attachments": {},
   "cell_type": "markdown",
   "metadata": {},
   "source": [
    "Importamos las librerías necesarias"
   ]
  },
  {
   "cell_type": "code",
   "execution_count": 1,
   "metadata": {},
   "outputs": [],
   "source": [
    "import pandas as pd\n",
    "import csv\n",
    "import matplotlib.pyplot as plt"
   ]
  },
  {
   "attachments": {},
   "cell_type": "markdown",
   "metadata": {},
   "source": [
    "Función para obtener los distintos distritos"
   ]
  },
  {
   "cell_type": "code",
   "execution_count": 2,
   "metadata": {},
   "outputs": [],
   "source": [
    "def limpiar_distritos(df,distrito):\n",
    "    dist=df.loc[df['DISTRITO_LOCAL']==distrito]\n",
    "    dist=dist[\"TOTAL_VOTOS_SACADOS\"]\n",
    "    dist=dist.tolist()\n",
    "    dist_num=[]\n",
    "    for i in dist:\n",
    "        try:\n",
    "            dist_num.append(int(i))\n",
    "        except:\n",
    "            pass\n",
    "\n",
    "    total_dist=sum(dist_num)\n",
    "    return total_dist"
   ]
  },
  {
   "attachments": {},
   "cell_type": "markdown",
   "metadata": {},
   "source": [
    "Función para contabilizar los votos de un tipo de casilla"
   ]
  },
  {
   "cell_type": "code",
   "execution_count": 3,
   "metadata": {},
   "outputs": [],
   "source": [
    "def votos_casilla(df,distrito,tipo):\n",
    "    dist=df.loc[(df['DISTRITO_LOCAL']==distrito) & (df['TIPO_CASILLA']==tipo)]\n",
    "    dist=dist[\"TOTAL_PERSONAS_VOTARON\"]\n",
    "    dist=dist.tolist()\n",
    "    dist_num=[]\n",
    "    for i in dist:\n",
    "        try:\n",
    "            dist_num.append(int(i))\n",
    "        except:\n",
    "            pass\n",
    "\n",
    "    total_dist=sum(dist_num)\n",
    "    return total_dist"
   ]
  },
  {
   "attachments": {},
   "cell_type": "markdown",
   "metadata": {},
   "source": [
    "Función para contabilizar los votos nulos registrados"
   ]
  },
  {
   "cell_type": "code",
   "execution_count": 4,
   "metadata": {},
   "outputs": [],
   "source": [
    "def votos_nulos(df,distrito):\n",
    "    dist=df.loc[df['DISTRITO_LOCAL']==distrito]\n",
    "    dist=dist[\"NULOS\"]\n",
    "    dist=dist.tolist()\n",
    "    dist_num=[]\n",
    "    for i in dist:\n",
    "        try:\n",
    "            dist_num.append(int(i))\n",
    "        except:\n",
    "            pass\n",
    "\n",
    "    total_dist=sum(dist_num)\n",
    "    return total_dist"
   ]
  },
  {
   "attachments": {},
   "cell_type": "markdown",
   "metadata": {},
   "source": [
    "Función para contabilizar los votos registrados"
   ]
  },
  {
   "cell_type": "code",
   "execution_count": 5,
   "metadata": {},
   "outputs": [],
   "source": [
    "def participacion_por_distrito(df,distrito):\n",
    "    dist=df.loc[df['DISTRITO_LOCAL']==distrito]\n",
    "    dist=dist[\"TOTAL_PERSONAS_VOTARON\"]\n",
    "    dist=dist.tolist()\n",
    "    dist_num=[]\n",
    "    for i in dist:\n",
    "        try:\n",
    "            dist_num.append(int(i))\n",
    "        except:\n",
    "            pass\n",
    "\n",
    "    total_dist=sum(dist_num)\n",
    "    return total_dist"
   ]
  },
  {
   "attachments": {},
   "cell_type": "markdown",
   "metadata": {},
   "source": [
    "Función para contabilizar los votos sacados de la urna registrados en una casilla"
   ]
  },
  {
   "cell_type": "code",
   "execution_count": 6,
   "metadata": {},
   "outputs": [],
   "source": [
    "def votos_urna_por_distrito(df,distrito):\n",
    "    dist=df.loc[df['DISTRITO_LOCAL']==distrito]\n",
    "    dist=dist[\"TOTAL_VOTOS_SACADOS\"]\n",
    "    dist=dist.tolist()\n",
    "    dist_num=[]\n",
    "    for i in dist:\n",
    "        try:\n",
    "            dist_num.append(int(i))\n",
    "        except:\n",
    "            pass\n",
    "\n",
    "    total_dist=sum(dist_num)\n",
    "    return total_dist"
   ]
  },
  {
   "attachments": {},
   "cell_type": "markdown",
   "metadata": {},
   "source": [
    "Limpieza del CSV base"
   ]
  },
  {
   "cell_type": "code",
   "execution_count": 7,
   "metadata": {},
   "outputs": [],
   "source": [
    "#______________Limpieza del archivo base_______________________________\n",
    "datos=pd.read_csv('QRO_DIP_LOC_2018.csv', skiprows=5)\n",
    "columna_clave_acta= datos['CLAVE_ACTA']\n",
    "columna_clave_casilla= datos['CLAVE_CASILLA']\n",
    "\n",
    "#Limpieza de la columna CLAVE_ACTA\n",
    "for i in range(len(columna_clave_acta)):\n",
    "    if str(datos.loc[i, 'CLAVE_ACTA']).find(\"E\"):\n",
    "        datos.loc[i, 'CLAVE_ACTA']=str(datos.loc[i, 'CLAVE_ACTA'])[1:]\n",
    "    else:\n",
    "        datos.loc[i, 'CLAVE_ACTA'] = str(datos.loc[i, 'CLAVE_ACTA'].replace(\"'\",\"\"))\n",
    "    \n",
    "#Limpieza de la columna CLAVE_CASILLA\n",
    "for j in range(len(columna_clave_casilla)):\n",
    "    if str(datos.loc[j, 'CLAVE_CASILLA']).find(\"E\"):\n",
    "        datos.loc[j, 'CLAVE_CASILLA']=str(datos.loc[j, 'CLAVE_CASILLA'])[1:]\n",
    "    else:\n",
    "        datos.loc[j, 'CLAVE_CASILLA'] = str(datos.loc[j, 'CLAVE_CASILLA'].replace(\"'\",\"\"))\n",
    "\n",
    "#Guardamos el nuevo archivo\n",
    "datos.to_csv('archivo_modificado.csv', index=False)"
   ]
  },
  {
   "attachments": {},
   "cell_type": "markdown",
   "metadata": {},
   "source": [
    "## Visualizaciones importantes sobre los datos que se encontraron en el CSV"
   ]
  },
  {
   "cell_type": "code",
   "execution_count": 20,
   "metadata": {},
   "outputs": [
    {
     "data": {
      "text/html": [
       "<div>\n",
       "<style scoped>\n",
       "    .dataframe tbody tr th:only-of-type {\n",
       "        vertical-align: middle;\n",
       "    }\n",
       "\n",
       "    .dataframe tbody tr th {\n",
       "        vertical-align: top;\n",
       "    }\n",
       "\n",
       "    .dataframe thead th {\n",
       "        text-align: right;\n",
       "    }\n",
       "</style>\n",
       "<table border=\"1\" class=\"dataframe\">\n",
       "  <thead>\n",
       "    <tr style=\"text-align: right;\">\n",
       "      <th></th>\n",
       "      <th>CLAVE_CASILLA</th>\n",
       "      <th>CLAVE_ACTA</th>\n",
       "      <th>ID_ESTADO</th>\n",
       "      <th>ESTADO</th>\n",
       "      <th>ID_DISTRITO_LOCAL</th>\n",
       "      <th>DISTRITO_LOCAL</th>\n",
       "      <th>SECCION</th>\n",
       "      <th>ID_CASILLA</th>\n",
       "      <th>TIPO_CASILLA</th>\n",
       "      <th>EXT_CONTIGUA</th>\n",
       "      <th>...</th>\n",
       "      <th>OBSERVACIONES</th>\n",
       "      <th>CONTABILIZADA</th>\n",
       "      <th>MECANISMOS_TRASLADO</th>\n",
       "      <th>SHA</th>\n",
       "      <th>FECHA_HORA_ACOPIO</th>\n",
       "      <th>FECHA_HORA_CAPTURA</th>\n",
       "      <th>FECHA_HORA_VERIFICACION</th>\n",
       "      <th>ORIGEN</th>\n",
       "      <th>DIGITALIZACION</th>\n",
       "      <th>TIPO_DOCUMENTO</th>\n",
       "    </tr>\n",
       "  </thead>\n",
       "  <tbody>\n",
       "    <tr>\n",
       "      <th>0</th>\n",
       "      <td>220277B0100</td>\n",
       "      <td>220277B0100</td>\n",
       "      <td>22</td>\n",
       "      <td>QUERETARO</td>\n",
       "      <td>1</td>\n",
       "      <td>QUERETARO 01</td>\n",
       "      <td>277</td>\n",
       "      <td>961</td>\n",
       "      <td>B</td>\n",
       "      <td>0</td>\n",
       "      <td>...</td>\n",
       "      <td>NaN</td>\n",
       "      <td>1.0</td>\n",
       "      <td>D</td>\n",
       "      <td>77B4E74C39AA83026388F7148239AF76816E8B6D29CC03...</td>\n",
       "      <td>02/07/2018 01:18:43</td>\n",
       "      <td>02/07/2018 02:18:53</td>\n",
       "      <td>02/07/2018 04:25:39</td>\n",
       "      <td>CATD</td>\n",
       "      <td>ESCANER</td>\n",
       "      <td>ACTA PREP</td>\n",
       "    </tr>\n",
       "    <tr>\n",
       "      <th>1</th>\n",
       "      <td>220277C0100</td>\n",
       "      <td>220277C0100</td>\n",
       "      <td>22</td>\n",
       "      <td>QUERETARO</td>\n",
       "      <td>1</td>\n",
       "      <td>QUERETARO 01</td>\n",
       "      <td>277</td>\n",
       "      <td>962</td>\n",
       "      <td>C</td>\n",
       "      <td>0</td>\n",
       "      <td>...</td>\n",
       "      <td>NaN</td>\n",
       "      <td>1.0</td>\n",
       "      <td>D</td>\n",
       "      <td>C055A6A27C574F57BE0185476BC19756D0290CB26C9FB6...</td>\n",
       "      <td>02/07/2018 01:17:20</td>\n",
       "      <td>02/07/2018 04:40:41</td>\n",
       "      <td>02/07/2018 05:41:19</td>\n",
       "      <td>CATD</td>\n",
       "      <td>ESCANER</td>\n",
       "      <td>ACTA PREP</td>\n",
       "    </tr>\n",
       "    <tr>\n",
       "      <th>2</th>\n",
       "      <td>220277C0200</td>\n",
       "      <td>220277C0200</td>\n",
       "      <td>22</td>\n",
       "      <td>QUERETARO</td>\n",
       "      <td>1</td>\n",
       "      <td>QUERETARO 01</td>\n",
       "      <td>277</td>\n",
       "      <td>963</td>\n",
       "      <td>C</td>\n",
       "      <td>0</td>\n",
       "      <td>...</td>\n",
       "      <td>NaN</td>\n",
       "      <td>1.0</td>\n",
       "      <td>D</td>\n",
       "      <td>83A57141BC2CB59F7A4D43069AF9DBBA5B13B61320FC59...</td>\n",
       "      <td>02/07/2018 00:42:16</td>\n",
       "      <td>02/07/2018 01:03:58</td>\n",
       "      <td>02/07/2018 01:15:12</td>\n",
       "      <td>CATD</td>\n",
       "      <td>ESCANER</td>\n",
       "      <td>ACTA PREP</td>\n",
       "    </tr>\n",
       "    <tr>\n",
       "      <th>3</th>\n",
       "      <td>220277C0300</td>\n",
       "      <td>220277C0300</td>\n",
       "      <td>22</td>\n",
       "      <td>QUERETARO</td>\n",
       "      <td>1</td>\n",
       "      <td>QUERETARO 01</td>\n",
       "      <td>277</td>\n",
       "      <td>964</td>\n",
       "      <td>C</td>\n",
       "      <td>0</td>\n",
       "      <td>...</td>\n",
       "      <td>NaN</td>\n",
       "      <td>1.0</td>\n",
       "      <td>D</td>\n",
       "      <td>AB96359CA2A806F9B8A96D9666FC3D74571BA564F32DA1...</td>\n",
       "      <td>02/07/2018 01:18:11</td>\n",
       "      <td>02/07/2018 02:40:52</td>\n",
       "      <td>02/07/2018 05:05:53</td>\n",
       "      <td>CATD</td>\n",
       "      <td>ESCANER</td>\n",
       "      <td>ACTA PREP</td>\n",
       "    </tr>\n",
       "    <tr>\n",
       "      <th>4</th>\n",
       "      <td>220277C0400</td>\n",
       "      <td>220277C0400</td>\n",
       "      <td>22</td>\n",
       "      <td>QUERETARO</td>\n",
       "      <td>1</td>\n",
       "      <td>QUERETARO 01</td>\n",
       "      <td>277</td>\n",
       "      <td>965</td>\n",
       "      <td>C</td>\n",
       "      <td>0</td>\n",
       "      <td>...</td>\n",
       "      <td>NaN</td>\n",
       "      <td>1.0</td>\n",
       "      <td>D</td>\n",
       "      <td>4D527753D1E7D940AEA1CE9FF61E66A3237D5255359759...</td>\n",
       "      <td>02/07/2018 00:42:51</td>\n",
       "      <td>02/07/2018 01:09:11</td>\n",
       "      <td>02/07/2018 01:37:26</td>\n",
       "      <td>CATD</td>\n",
       "      <td>ESCANER</td>\n",
       "      <td>ACTA PREP</td>\n",
       "    </tr>\n",
       "  </tbody>\n",
       "</table>\n",
       "<p>5 rows × 83 columns</p>\n",
       "</div>"
      ],
      "text/plain": [
       "  CLAVE_CASILLA   CLAVE_ACTA  ID_ESTADO     ESTADO  ID_DISTRITO_LOCAL  \\\n",
       "0   220277B0100  220277B0100         22  QUERETARO                  1   \n",
       "1   220277C0100  220277C0100         22  QUERETARO                  1   \n",
       "2   220277C0200  220277C0200         22  QUERETARO                  1   \n",
       "3   220277C0300  220277C0300         22  QUERETARO                  1   \n",
       "4   220277C0400  220277C0400         22  QUERETARO                  1   \n",
       "\n",
       "  DISTRITO_LOCAL  SECCION  ID_CASILLA TIPO_CASILLA  EXT_CONTIGUA  ...  \\\n",
       "0   QUERETARO 01      277         961            B             0  ...   \n",
       "1   QUERETARO 01      277         962            C             0  ...   \n",
       "2   QUERETARO 01      277         963            C             0  ...   \n",
       "3   QUERETARO 01      277         964            C             0  ...   \n",
       "4   QUERETARO 01      277         965            C             0  ...   \n",
       "\n",
       "  OBSERVACIONES  CONTABILIZADA MECANISMOS_TRASLADO  \\\n",
       "0           NaN            1.0                   D   \n",
       "1           NaN            1.0                   D   \n",
       "2           NaN            1.0                   D   \n",
       "3           NaN            1.0                   D   \n",
       "4           NaN            1.0                   D   \n",
       "\n",
       "                                                 SHA    FECHA_HORA_ACOPIO  \\\n",
       "0  77B4E74C39AA83026388F7148239AF76816E8B6D29CC03...  02/07/2018 01:18:43   \n",
       "1  C055A6A27C574F57BE0185476BC19756D0290CB26C9FB6...  02/07/2018 01:17:20   \n",
       "2  83A57141BC2CB59F7A4D43069AF9DBBA5B13B61320FC59...  02/07/2018 00:42:16   \n",
       "3  AB96359CA2A806F9B8A96D9666FC3D74571BA564F32DA1...  02/07/2018 01:18:11   \n",
       "4  4D527753D1E7D940AEA1CE9FF61E66A3237D5255359759...  02/07/2018 00:42:51   \n",
       "\n",
       "    FECHA_HORA_CAPTURA FECHA_HORA_VERIFICACION ORIGEN DIGITALIZACION  \\\n",
       "0  02/07/2018 02:18:53     02/07/2018 04:25:39   CATD        ESCANER   \n",
       "1  02/07/2018 04:40:41     02/07/2018 05:41:19   CATD        ESCANER   \n",
       "2  02/07/2018 01:03:58     02/07/2018 01:15:12   CATD        ESCANER   \n",
       "3  02/07/2018 02:40:52     02/07/2018 05:05:53   CATD        ESCANER   \n",
       "4  02/07/2018 01:09:11     02/07/2018 01:37:26   CATD        ESCANER   \n",
       "\n",
       "  TIPO_DOCUMENTO  \n",
       "0      ACTA PREP  \n",
       "1      ACTA PREP  \n",
       "2      ACTA PREP  \n",
       "3      ACTA PREP  \n",
       "4      ACTA PREP  \n",
       "\n",
       "[5 rows x 83 columns]"
      ]
     },
     "execution_count": 20,
     "metadata": {},
     "output_type": "execute_result"
    }
   ],
   "source": [
    "df=pd.read_csv('QRO_DIP_LOC_2018.csv', skiprows=5)\n",
    "df.head()"
   ]
  },
  {
   "attachments": {},
   "cell_type": "markdown",
   "metadata": {},
   "source": [
    "Visualizaremos de manera general el tipo de datos que contiene:"
   ]
  },
  {
   "cell_type": "code",
   "execution_count": null,
   "metadata": {},
   "outputs": [],
   "source": [
    "df.info()"
   ]
  },
  {
   "attachments": {},
   "cell_type": "markdown",
   "metadata": {},
   "source": [
    "01 - Consulta para obtener cuantas casillas hay en cada distrito del estado de Queretaro"
   ]
  },
  {
   "cell_type": "code",
   "execution_count": 9,
   "metadata": {},
   "outputs": [
    {
     "data": {
      "image/png": "[encoded data removed]",
      "text/plain": [
       "<Figure size 432x288 with 1 Axes>"
      ]
     },
     "metadata": {
      "needs_background": "light"
     },
     "output_type": "display_data"
    }
   ],
   "source": [
    "SMALL_SIZE = 4.5\n",
    "plt.rc('font', size=SMALL_SIZE)\n",
    "plt.rc('axes', titlesize=SMALL_SIZE)\n",
    "plt.rc('ytick', labelsize=10) \n",
    "cantidad_de_casillas_p_estado=df[\"DISTRITO_LOCAL\"].value_counts()\n",
    "plt.bar(cantidad_de_casillas_p_estado.index,cantidad_de_casillas_p_estado)\n",
    "plt.show()"
   ]
  },
  {
   "attachments": {},
   "cell_type": "markdown",
   "metadata": {},
   "source": [
    "02 - Consulta para obtener cuantos tipos de casillas distintas hay"
   ]
  },
  {
   "cell_type": "code",
   "execution_count": 10,
   "metadata": {},
   "outputs": [
    {
     "data": {
      "image/png": "[encoded data removed]",
      "text/plain": [
       "<Figure size 432x288 with 1 Axes>"
      ]
     },
     "metadata": {
      "needs_background": "light"
     },
     "output_type": "display_data"
    }
   ],
   "source": [
    "cantidad_tipos_de_casillas=df[\"TIPO_CASILLA\"].value_counts()\n",
    "plt.bar(cantidad_tipos_de_casillas.index,cantidad_tipos_de_casillas)\n",
    "plt.show()"
   ]
  },
  {
   "attachments": {},
   "cell_type": "markdown",
   "metadata": {},
   "source": [
    "03 - Consulta para obetner y graficar la cantidad de casillas con ubicaciones \"urbanas\" y \"no urbanas\""
   ]
  },
  {
   "cell_type": "code",
   "execution_count": 11,
   "metadata": {},
   "outputs": [
    {
     "data": {
      "image/png": "[encoded data removed]",
      "text/plain": [
       "<Figure size 432x288 with 1 Axes>"
      ]
     },
     "metadata": {
      "needs_background": "light"
     },
     "output_type": "display_data"
    }
   ],
   "source": [
    "casillas_urbana=df.query('UBICACION_CASILLA == \"URBANA\"')\n",
    "casillas_urbana=casillas_urbana.loc[:,'UBICACION_CASILLA']\n",
    "casillas_no_urbana=df.query('UBICACION_CASILLA != \"URBANA\"')\n",
    "casillas_no_urbana=casillas_no_urbana.loc[:,'UBICACION_CASILLA']\n",
    "plt.bar(['Urbano','No urbano'], [len(casillas_urbana),len(casillas_no_urbana)])\n",
    "plt.show()"
   ]
  },
  {
   "attachments": {},
   "cell_type": "markdown",
   "metadata": {},
   "source": [
    "04 - Consulta para obtener la cantidad de los distintos tipos de actas "
   ]
  },
  {
   "cell_type": "code",
   "execution_count": 12,
   "metadata": {},
   "outputs": [
    {
     "data": {
      "image/png": "[encoded data removed]",
      "text/plain": [
       "<Figure size 432x288 with 1 Axes>"
      ]
     },
     "metadata": {
      "needs_background": "light"
     },
     "output_type": "display_data"
    }
   ],
   "source": [
    "cantidad_tipos_de_actas=df[\"TIPO_ACTA\"].value_counts()\n",
    "plt.bar(cantidad_tipos_de_actas.index,cantidad_tipos_de_actas)\n",
    "plt.show()"
   ]
  },
  {
   "attachments": {},
   "cell_type": "markdown",
   "metadata": {},
   "source": [
    "* Obtenemos una lista de los distritos que conforman los registros del CSV"
   ]
  },
  {
   "cell_type": "code",
   "execution_count": 13,
   "metadata": {},
   "outputs": [],
   "source": [
    "distritos_distintos=df[\"DISTRITO_LOCAL\"].unique().tolist()"
   ]
  },
  {
   "attachments": {},
   "cell_type": "markdown",
   "metadata": {},
   "source": [
    "05 - Consulta para obtener la cantidad de votos obtenidos por distrito"
   ]
  },
  {
   "cell_type": "code",
   "execution_count": 14,
   "metadata": {},
   "outputs": [
    {
     "data": {
      "image/png": "[encoded data removed]",
      "text/plain": [
       "<Figure size 432x288 with 1 Axes>"
      ]
     },
     "metadata": {
      "needs_background": "light"
     },
     "output_type": "display_data"
    }
   ],
   "source": [
    "lista_totales=[]\n",
    "for i in distritos_distintos:\n",
    "    lista_totales.append(limpiar_distritos(df,i))\n",
    "\n",
    "plt.rc('font', size=4.5)\n",
    "plt.rc('axes', titlesize=20)\n",
    "plt.rc('ytick', labelsize=10) \n",
    "plt.bar(distritos_distintos,lista_totales)\n",
    "plt.show()"
   ]
  },
  {
   "attachments": {},
   "cell_type": "markdown",
   "metadata": {},
   "source": [
    "06 - Consulta para analizar el Total de Votos que fueron capturados en casillas básicas"
   ]
  },
  {
   "cell_type": "code",
   "execution_count": 15,
   "metadata": {},
   "outputs": [
    {
     "data": {
      "image/png": "[encoded data removed]",
      "text/plain": [
       "<Figure size 432x288 with 1 Axes>"
      ]
     },
     "metadata": {
      "needs_background": "light"
     },
     "output_type": "display_data"
    }
   ],
   "source": [
    "casilla_basica=\"B\"\n",
    "total_votos_casillas_basicas=[]\n",
    "for i in distritos_distintos:\n",
    "    total_votos_casillas_basicas.append(votos_casilla(df,i,casilla_basica))\n",
    "\n",
    "plt.rc('font', size=10)\n",
    "plt.rc('axes', titlesize=20)\n",
    "plt.rc('ytick', labelsize=10)\n",
    "plt.rc('xtick', labelsize= 3.9)\n",
    "plt.title('Total de personas que votaron en casilla Basica por distrito')\n",
    "plt.xlabel('Distrito')\n",
    "plt.ylabel('Total personas que votaron en casillas Basica')\n",
    "plt.bar(distritos_distintos,total_votos_casillas_basicas)\n",
    "plt.show()"
   ]
  },
  {
   "attachments": {},
   "cell_type": "markdown",
   "metadata": {},
   "source": [
    "07 - Consulta para analizar el Total de Votos que fueron capturados en casillas especiales"
   ]
  },
  {
   "cell_type": "code",
   "execution_count": 16,
   "metadata": {},
   "outputs": [
    {
     "data": {
      "image/png": "[encoded data removed]",
      "text/plain": [
       "<Figure size 432x288 with 1 Axes>"
      ]
     },
     "metadata": {
      "needs_background": "light"
     },
     "output_type": "display_data"
    }
   ],
   "source": [
    "casilla_especial=\"S\"\n",
    "total_votos_casillas_especiales=[]\n",
    "for i in distritos_distintos:\n",
    "    total_votos_casillas_especiales.append(votos_casilla(df,i,casilla_especial))\n",
    "\n",
    "plt.rc('font', size=10)\n",
    "plt.rc('axes', titlesize=20)\n",
    "plt.rc('ytick', labelsize=10)\n",
    "plt.rc('xtick', labelsize= 3.9)\n",
    "plt.title('Total de personas que votaron en casilla Especial por distrito')\n",
    "plt.xlabel('Distrito')\n",
    "plt.ylabel('Total personas que votaron en casillas Especial')\n",
    "plt.bar(distritos_distintos,total_votos_casillas_especiales)\n",
    "plt.show()"
   ]
  },
  {
   "attachments": {},
   "cell_type": "markdown",
   "metadata": {},
   "source": [
    "08 - Consulta para analizar los Votos Nulos por distrito"
   ]
  },
  {
   "cell_type": "code",
   "execution_count": 17,
   "metadata": {},
   "outputs": [
    {
     "data": {
      "image/png": "[encoded data removed]",
      "text/plain": [
       "<Figure size 432x288 with 1 Axes>"
      ]
     },
     "metadata": {
      "needs_background": "light"
     },
     "output_type": "display_data"
    }
   ],
   "source": [
    "total_votos_nulos=[]\n",
    "for i in distritos_distintos:\n",
    "    total_votos_nulos.append(votos_nulos(df,i))\n",
    "\n",
    "plt.rc('font', size=10)\n",
    "plt.rc('axes', titlesize=20)\n",
    "plt.rc('ytick', labelsize=10)\n",
    "plt.rc('xtick', labelsize= 3.9)\n",
    "plt.title('Total de votos nulos por distrito')\n",
    "plt.xlabel('Distrito')\n",
    "plt.ylabel('Total votos nulos')\n",
    "plt.bar(distritos_distintos,total_votos_nulos)\n",
    "plt.show()"
   ]
  },
  {
   "attachments": {},
   "cell_type": "markdown",
   "metadata": {},
   "source": [
    "09 - Consulta para analizar la participación ciudadana por distrito"
   ]
  },
  {
   "cell_type": "code",
   "execution_count": 18,
   "metadata": {},
   "outputs": [
    {
     "data": {
      "image/png": "[encoded data removed]",
      "text/plain": [
       "<Figure size 432x288 with 1 Axes>"
      ]
     },
     "metadata": {
      "needs_background": "light"
     },
     "output_type": "display_data"
    }
   ],
   "source": [
    "total_participacion=[]\n",
    "for i in distritos_distintos:\n",
    "    total_participacion.append(participacion_por_distrito(df,i))\n",
    "\n",
    "plt.rc('font', size=10)\n",
    "plt.rc('axes', titlesize=20)\n",
    "plt.rc('ytick', labelsize=10)\n",
    "plt.rc('xtick', labelsize= 3.9)\n",
    "plt.title('Participacion ciudadana en cada distrito')\n",
    "plt.xlabel('Distrito')\n",
    "plt.ylabel('Total participantes')\n",
    "plt.bar(distritos_distintos,total_participacion)\n",
    "plt.show()"
   ]
  },
  {
   "attachments": {},
   "cell_type": "markdown",
   "metadata": {},
   "source": [
    "10 - Consulta para analizar el excedente de votos sacados de la urna en relacion con los votantes contabilizados por distrito"
   ]
  },
  {
   "cell_type": "code",
   "execution_count": 19,
   "metadata": {},
   "outputs": [
    {
     "data": {
      "image/png": "[encoded data removed]",
      "text/plain": [
       "<Figure size 432x288 with 1 Axes>"
      ]
     },
     "metadata": {
      "needs_background": "light"
     },
     "output_type": "display_data"
    }
   ],
   "source": [
    "total_participacion=[]\n",
    "for i in distritos_distintos:\n",
    "    total_participacion.append(participacion_por_distrito(df,i))\n",
    "    \n",
    "total_votos_sacados_urna=[]\n",
    "for j in distritos_distintos:\n",
    "    total_votos_sacados_urna.append(votos_urna_por_distrito(df,j))\n",
    "\n",
    "excedente_votos=[]\n",
    "for s in range(len(total_participacion)):\n",
    "    excedente_votos.append(abs(total_votos_sacados_urna[s]-total_participacion[s]))\n",
    "\n",
    "plt.rc('font', size=10)\n",
    "plt.rc('axes', titlesize=16)\n",
    "plt.rc('ytick', labelsize=10)\n",
    "plt.rc('xtick', labelsize= 3.9)\n",
    "plt.title('Excedente de votos sacados de la urna con respecto a los votantes contabilizados en cada distrito')\n",
    "plt.xlabel('Distrito')\n",
    "plt.ylabel('Votos de más')\n",
    "plt.bar(distritos_distintos,excedente_votos)\n",
    "plt.show()"
   ]
  }
 ],
 "metadata": {
  "kernelspec": {
   "display_name": "Python 3",
   "language": "python",
   "name": "python3"
  },
  "language_info": {
   "codemirror_mode": {
    "name": "ipython",
    "version": 3
   },
   "file_extension": ".py",
   "mimetype": "text/x-python",
   "name": "python",
   "nbconvert_exporter": "python",
   "pygments_lexer": "ipython3",
   "version": "3.10.4"
  },
  "orig_nbformat": 4
 },
 "nbformat": 4,
 "nbformat_minor": 2
}
